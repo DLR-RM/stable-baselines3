{
 "cells": [
  {
   "cell_type": "code",
   "execution_count": 2,
   "id": "078e2b0b",
   "metadata": {
    "scrolled": true
   },
   "outputs": [
    {
     "data": {
      "text/plain": [
       "1"
      ]
     },
     "execution_count": 2,
     "metadata": {},
     "output_type": "execute_result"
    }
   ],
   "source": [
    "import torch\n",
    "import numpy as np\n",
    "a=[2,10,2,5]\n",
    "np.argmax(a)"
   ]
  },
  {
   "cell_type": "raw",
   "id": "f3ad947b",
   "metadata": {},
   "source": [
    "Reacher-v2 11    2\n",
    "Swimmer-v2  8    2\n",
    "HalfCheetah 17   6"
   ]
  },
  {
   "cell_type": "code",
   "execution_count": 3,
   "id": "20962dcb",
   "metadata": {},
   "outputs": [
    {
     "name": "stdout",
     "output_type": "stream",
     "text": [
      "(17,) (6,)\n"
     ]
    }
   ],
   "source": [
    "import gym\n",
    "e=gym.make(\"HalfCheetah-v2\")\n",
    "o=e.reset()\n",
    "o,a=e.observation_space.shape,e.action_space.shape\n",
    "print(o,a)\n"
   ]
  },
  {
   "cell_type": "code",
   "execution_count": 158,
   "id": "cc06da98",
   "metadata": {
    "scrolled": true
   },
   "outputs": [
    {
     "data": {
      "text/plain": [
       "tensor([[ 4.,  4.],\n",
       "        [15.,  5.],\n",
       "        [16.,  6.]])"
      ]
     },
     "execution_count": 158,
     "metadata": {},
     "output_type": "execute_result"
    }
   ],
   "source": [
    "a=torch.Tensor([[4,5,6],[5,10,3]])\n",
    "b=torch.Tensor([5,10,8])\n",
    "c=torch.Tensor([4,5,6])\n",
    "d=torch.Tensor([4,15,16])\n",
    "k=[]\n",
    "torch.cat(k,out=b)\n",
    "torch.cat(k,out=c)\n",
    "print(torch.mean(a,axis=-1))\n",
    "print(torch.max(b,c))\n",
    "t=torch.sum(torch.stack([b,c,b],dim=-1),-1)\n",
    "print(t)\n",
    "torch.subtract(b,c)\n",
    "torch.exp(b)\n",
    "m=torch.stack([b,c,d,c])  #batch=256-->4, dim=17-->3  pred=2\n",
    "n=torch.stack([c,c,d,c])\n",
    "print(m.shape,torch.stack([m,n]).shape,torch.mean(torch.stack([m,n]),0).shape)\n",
    "print(torch.mean(torch.mean(torch.stack([m,n]),-1),0))\n",
    "print(torch.mean(torch.mean(torch.stack([m,n]),0),-1))\n",
    "#tensor([ 5.5000,  5.0000, 11.6667,  5.0000])\n",
    "torch.argmax(b)\n",
    "torch.min(torch.stack([d,c,b]),0).values.shape\n",
    "torch.min(d,c)\n",
    "vec=torch.stack([d,c,b,c])\n",
    "ind=torch.argmax(vec,0)\n",
    "#vec.index_select(ind),ind,vec\n",
    "print(vec.gather(0, ind.view(1,-1)),vec)\n",
    "print(m.shape)##batch,inp\n",
    "#batch, nstep, inp\n",
    "\n",
    "n_steps = 10\n",
    "train_sequences = np.tile(m[:, None], ( 1,n_steps,  1))\n",
    "torch.tensor(train_sequences).shape\n",
    "torch.cat([d,c],dim=1)\n",
    "#c=torch.Tensor([4,5,6])\n",
    "#d=torch.Tensor([4,15,16])"
   ]
  },
  {
   "cell_type": "code",
   "execution_count": null,
   "id": "bda32d2f",
   "metadata": {},
   "outputs": [],
   "source": [
    "    def quantile_huber_loss_f(quantiles, samples):\n",
    "        pairwise_delta = samples[:, None, None, :] - quantiles[:, :, :, None]  # batch x nets x quantiles x samples\n",
    "        abs_pairwise_delta = torch.abs(pairwise_delta)\n",
    "        huber_loss = torch.where(abs_pairwise_delta > 1,\n",
    "                                 abs_pairwise_delta - 0.5,\n",
    "                                 pairwise_delta ** 2 * 0.5)\n",
    "\n",
    "        n_quantiles = quantiles.shape[2]\n",
    "        tau = torch.arange(n_quantiles, device=DEVICE).float() / n_quantiles + 1 / 2 / n_quantiles\n",
    "        loss = (torch.abs(tau[None, None, :, None] - (pairwise_delta < 0).float()) * huber_loss).mean()\n",
    "        return loss"
   ]
  },
  {
   "cell_type": "code",
   "execution_count": 121,
   "id": "ef7ac517",
   "metadata": {},
   "outputs": [
    {
     "data": {
      "text/plain": [
       "(tensor([ 5.0000, -0.0000,  7.5000, -3.7500,  3.7500,  0.0000, -2.5000]),\n",
       " tensor([False,  True, False, False, False,  True, False]),\n",
       " tensor([ 4.0000, -5.8000,  6.0000, -3.0000,  3.0000,  5.0000, -2.0000]))"
      ]
     },
     "execution_count": 121,
     "metadata": {},
     "output_type": "execute_result"
    }
   ],
   "source": [
    "import torch.nn as nn\n",
    "no=torch.Tensor([4,-5,6,-3,3,5,-2])  ###nome s\n",
    "per=torch.Tensor([4.5,-5.8,5.5,-3,3,5,-2])##per\n",
    "c=torch.Tensor([4,-5,6,0 ,3,0,-2])  \n",
    "\n",
    "m=nn.Dropout(p=0.2)  #scales other values by 1/(1-p)\n",
    "c=m(no)###after drped nominal s\n",
    "c,c==0,(c!=0)*no + (c==0)*per#,torch.randn(10)*0.2"
   ]
  },
  {
   "cell_type": "code",
   "execution_count": 175,
   "id": "da0e08b2",
   "metadata": {},
   "outputs": [
    {
     "data": {
      "text/plain": [
       "tensor([[ 3., 10.,  5.],\n",
       "        [ 1.,  3., 16.]])"
      ]
     },
     "execution_count": 175,
     "metadata": {},
     "output_type": "execute_result"
    }
   ],
   "source": [
    "c = torch.tensor([[1., 8., 3.],[-1, 1, 14]])\n",
    "c+2"
   ]
  },
  {
   "cell_type": "code",
   "execution_count": 132,
   "id": "e197d8e8",
   "metadata": {},
   "outputs": [],
   "source": [
    "import os\n",
    "import random\n",
    "seed=100\n",
    "os.environ['PYTHONHASHSEED']=str(seed)\n",
    "np.random.seed(seed)\n",
    "random.seed(seed)\n",
    "sigma=np.arange(0,1.2,0.2)\n",
    "n=[]\n",
    "update_every=50\n",
    "update_after=1000\n",
    "total_steps=int(1e6)\n",
    "for t in range(total_steps):\n",
    "    if t >= (update_after) and t % (update_every) == 0:\n",
    "        for j in range(update_every):\n",
    "            n.append(np.random.choice(sigma,1)[0])\n",
    "            "
   ]
  },
  {
   "cell_type": "code",
   "execution_count": 154,
   "id": "5aeed1f5",
   "metadata": {},
   "outputs": [
    {
     "data": {
      "text/plain": [
       "8452"
      ]
     },
     "execution_count": 154,
     "metadata": {},
     "output_type": "execute_result"
    }
   ],
   "source": [
    "#n.count(0.6000000000000001) #166061-->0, 166085-->0.2,   166255-->0.4   167219-->0.6  166769-->0.8,  166611-->1\n",
    "\n",
    "n[200000:250000].count(1)\n"
   ]
  },
  {
   "cell_type": "code",
   "execution_count": 144,
   "id": "d0ce07ca",
   "metadata": {},
   "outputs": [
    {
     "data": {
      "text/plain": [
       "999000"
      ]
     },
     "execution_count": 144,
     "metadata": {},
     "output_type": "execute_result"
    }
   ],
   "source": [
    "166061 + 166085 + 166255 + 167219 + 166769 +  166611"
   ]
  },
  {
   "cell_type": "code",
   "execution_count": 185,
   "id": "6e5c4851",
   "metadata": {},
   "outputs": [
    {
     "data": {
      "text/plain": [
       "((11,), (3,))"
      ]
     },
     "execution_count": 185,
     "metadata": {},
     "output_type": "execute_result"
    }
   ],
   "source": [
    "import gym\n",
    "e=gym.make(\"Hopper-v2\")\n",
    "e.observation_space.shape,e.action_space.shape"
   ]
  },
  {
   "cell_type": "code",
   "execution_count": 22,
   "id": "09b53ddd",
   "metadata": {
    "scrolled": true
   },
   "outputs": [
    {
     "ename": "IndentationError",
     "evalue": "unexpected indent (<ipython-input-22-cd90fc3217cc>, line 11)",
     "output_type": "error",
     "traceback": [
      "\u001b[0;36m  File \u001b[0;32m\"<ipython-input-22-cd90fc3217cc>\"\u001b[0;36m, line \u001b[0;32m11\u001b[0m\n\u001b[0;31m    j=0\u001b[0m\n\u001b[0m    ^\u001b[0m\n\u001b[0;31mIndentationError\u001b[0m\u001b[0;31m:\u001b[0m unexpected indent\n"
     ]
    }
   ],
   "source": [
    "\n",
    "vec=torch.stack([d,c,b,c,b])  #5-256    5*3\n",
    "print(vec.shape)\n",
    "ind=torch.argmax(vec,0)\n",
    "ca=torch.Tensor([4,5,6,8])\n",
    "vec=torch.stack([ca,ca*2,ca*3])\n",
    "vec=torch.stack([vec,vec*2,vec*3,vec*4,vec*5]) #5*3*4\n",
    "#vec.index_select(ind),ind,vec\n",
    "indd=ind.view(1,-1)\n",
    "print(vec.shape,ind,indd.unsqueeze(2))\n",
    "print(vec,\"\\n\\n\\t\",vec.gather(0, indd.unsqueeze(1)))\n",
    "        j=0\n",
    "        m=[]\n",
    "        for i in ind:\n",
    "            m.append(vec[i,j,:])\n",
    "            j+=1\n",
    "        torch.stack(m)"
   ]
  },
  {
   "cell_type": "code",
   "execution_count": 23,
   "id": "efad6374",
   "metadata": {},
   "outputs": [
    {
     "data": {
      "text/plain": [
       "tensor([[2, 0, 0]])"
      ]
     },
     "execution_count": 23,
     "metadata": {},
     "output_type": "execute_result"
    }
   ],
   "source": [
    "ind.view(1,-1)"
   ]
  },
  {
   "cell_type": "code",
   "execution_count": 24,
   "id": "2a59c765",
   "metadata": {},
   "outputs": [
    {
     "name": "stdout",
     "output_type": "stream",
     "text": [
      "SHApe of q1 torch.Size([5, 3]) 1 torch.Size([5, 3]) torch.Size([5, 3]) 1 torch.Size([5, 3])\n"
     ]
    },
    {
     "data": {
      "text/plain": [
       "tensor([[ 5.,  5.,  5.],\n",
       "        [10., 10., 10.],\n",
       "        [ 3.,  3.,  3.],\n",
       "        [ 1.,  1.,  1.],\n",
       "        [ 1.,  1.,  1.]])"
      ]
     },
     "execution_count": 24,
     "metadata": {},
     "output_type": "execute_result"
    }
   ],
   "source": [
    "d=torch.Tensor([5,10,3,1,1])\n",
    "d=torch.stack([d,d,d],dim=1)\n",
    "\n",
    "logp_a2=torch.Tensor([2,1,2,1,1])\n",
    "logp_a2=torch.stack([logp_a2,logp_a2,logp_a2],dim=1)\n",
    "\n",
    "r=torch.Tensor([4,5,6,2,2])\n",
    "r=torch.stack([r,r,r],dim=1)\n",
    "q_pi_targ=torch.Tensor([[4,2,2],[0,2,1],[2,2,2],[2,1,2],[1,4,2]])\n",
    "alpha=1\n",
    "gamma=1\n",
    "\n",
    "print(\"SHApe of q1\",r.shape,gamma,d.shape,q_pi_targ.shape,alpha,logp_a2.shape) \n",
    "k= (q_pi_targ - alpha * logp_a2)\n",
    "d"
   ]
  },
  {
   "cell_type": "code",
   "execution_count": 25,
   "id": "ff341422",
   "metadata": {},
   "outputs": [],
   "source": [
    "import torch.nn as nn\n",
    "\n",
    "hidden_sizes=[256,256]\n",
    "sizes=[17 + 6] + list(hidden_sizes) + [1]\n",
    "layers=[]\n",
    "for j in range(len(sizes)-1):\n",
    "    act = nn.ReLU\n",
    "    layers += [nn.Linear(sizes[j], sizes[j+1]), act()]\n",
    "outputs = []\n",
    "quantiles = [.1, .5, .9]\n",
    "for i, quantile in enumerate(quantiles):\n",
    "    outputss = nn.Linear(1, 1)\n",
    "    outputs.append(outputss)\n",
    "qf1=outputs"
   ]
  },
  {
   "cell_type": "code",
   "execution_count": 26,
   "id": "e68860fd",
   "metadata": {},
   "outputs": [],
   "source": [
    "import torch.nn as nn\n",
    "\n",
    "hidden_sizes=[256,256]\n",
    "sizes=[17 + 6] + list(hidden_sizes) + [1]\n",
    "layers=[]\n",
    "for j in range(len(sizes)-1):\n",
    "    activation = nn.ReLU\n",
    "    output_activation=nn.Identity\n",
    "    act = activation if j < len(sizes)-2 else output_activation\n",
    "    layers += [nn.Linear(sizes[j], sizes[j+1]), act()]\n"
   ]
  },
  {
   "cell_type": "code",
   "execution_count": 130,
   "id": "9091a5ba",
   "metadata": {},
   "outputs": [
    {
     "data": {
      "text/plain": [
       "Sequential(\n",
       "  (0): Linear(in_features=23, out_features=256, bias=True)\n",
       "  (1): ReLU()\n",
       "  (2): Linear(in_features=256, out_features=256, bias=True)\n",
       "  (3): ReLU()\n",
       "  (4): Linear(in_features=256, out_features=1, bias=True)\n",
       "  (5): Identity()\n",
       ")"
      ]
     },
     "execution_count": 130,
     "metadata": {},
     "output_type": "execute_result"
    }
   ],
   "source": [
    "l=nn.Sequential(*layers)\n",
    "l"
   ]
  },
  {
   "cell_type": "code",
   "execution_count": 32,
   "id": "9d516413",
   "metadata": {},
   "outputs": [
    {
     "data": {
      "text/plain": [
       "[Linear(in_features=1, out_features=1, bias=True),\n",
       " Linear(in_features=1, out_features=1, bias=True),\n",
       " Linear(in_features=1, out_features=1, bias=True)]"
      ]
     },
     "execution_count": 32,
     "metadata": {},
     "output_type": "execute_result"
    }
   ],
   "source": [
    "qf1"
   ]
  },
  {
   "cell_type": "code",
   "execution_count": 102,
   "id": "4eb4f9d4",
   "metadata": {},
   "outputs": [],
   "source": [
    "import pickle"
   ]
  },
  {
   "cell_type": "code",
   "execution_count": null,
   "id": "f586c3f9",
   "metadata": {},
   "outputs": [],
   "source": [
    "result_dir =\"/home/admin12/Downloads/github/pc_snn/pop-spiking-deep-rl/popsan_drl/popsan_sac/result/6quantile_doublerobust_rbdata/params/spike-sac_sac-popsan-Walker2d-v2-encoder-dim-10-decoder-dim-10\"\n",
    "    test_reward, _ = pickle.load(open(result_dir + '/model' + str(m) + '_test_rewards.p', 'rb'))\n",
    "\n",
    "pickle.load(\"data0_train.p\")"
   ]
  },
  {
   "cell_type": "code",
   "execution_count": 111,
   "id": "e0643ecc",
   "metadata": {},
   "outputs": [],
   "source": [
    "import pandas\n",
    "result_dir =\"/home/admin12/Downloads/github/pc_snn/pop-spiking-deep-rl/popsan_drl/popsan_sac/params/spike-sac_sac-popsan-Walker2d-v2-encoder-dim-10-decoder-dim-10/\""
   ]
  },
  {
   "cell_type": "code",
   "execution_count": 121,
   "id": "a7d0e65f",
   "metadata": {},
   "outputs": [
    {
     "data": {
      "text/plain": [
       "(30189, 6)"
      ]
     },
     "execution_count": 121,
     "metadata": {},
     "output_type": "execute_result"
    }
   ],
   "source": [
    "x=pandas.read_csv(result_dir+\"data0_traincsv.csv\")\n",
    "x.shape"
   ]
  },
  {
   "cell_type": "code",
   "execution_count": 123,
   "id": "c967151c",
   "metadata": {},
   "outputs": [
    {
     "data": {
      "text/plain": [
       "t                                                 29550\n",
       "a     [[ 0.92244226  0.7706839  -0.79540044  0.65893...\n",
       "o2    [ 1.25979971e+00  4.40815960e-03  2.11260941e-...\n",
       "r                                              0.271442\n",
       "d                                                 False\n",
       "_                                                    {}\n",
       "Name: 30188, dtype: object"
      ]
     },
     "execution_count": 123,
     "metadata": {},
     "output_type": "execute_result"
    }
   ],
   "source": [
    "x.iloc[-1]"
   ]
  },
  {
   "cell_type": "code",
   "execution_count": 131,
   "id": "576d017e",
   "metadata": {},
   "outputs": [],
   "source": [
    "import gym\n",
    "e=gym.make(\"Walker2d-v2\")\n",
    "o=e.reset()"
   ]
  },
  {
   "cell_type": "code",
   "execution_count": 135,
   "id": "ae9a6d37",
   "metadata": {
    "scrolled": true
   },
   "outputs": [
    {
     "name": "stdout",
     "output_type": "stream",
     "text": [
      "Identity()\n"
     ]
    },
    {
     "ename": "TypeError",
     "evalue": "float() argument must be a string or a number, not 'Identity'",
     "output_type": "error",
     "traceback": [
      "\u001b[0;31m---------------------------------------------------------------------------\u001b[0m",
      "\u001b[0;31mTypeError\u001b[0m                                 Traceback (most recent call last)",
      "\u001b[0;32m<ipython-input-135-44ca7ee366c8>\u001b[0m in \u001b[0;36m<module>\u001b[0;34m\u001b[0m\n\u001b[1;32m      3\u001b[0m \u001b[0ma\u001b[0m\u001b[0;34m=\u001b[0m\u001b[0mnn\u001b[0m\u001b[0;34m.\u001b[0m\u001b[0mIdentity\u001b[0m\u001b[0;34m(\u001b[0m\u001b[0ma\u001b[0m\u001b[0;34m)\u001b[0m\u001b[0;34m\u001b[0m\u001b[0;34m\u001b[0m\u001b[0m\n\u001b[1;32m      4\u001b[0m \u001b[0mprint\u001b[0m\u001b[0;34m(\u001b[0m\u001b[0ma\u001b[0m\u001b[0;34m)\u001b[0m\u001b[0;34m\u001b[0m\u001b[0;34m\u001b[0m\u001b[0m\n\u001b[0;32m----> 5\u001b[0;31m \u001b[0ms\u001b[0m\u001b[0;34m,\u001b[0m\u001b[0mr\u001b[0m\u001b[0;34m,\u001b[0m\u001b[0md\u001b[0m\u001b[0;34m,\u001b[0m\u001b[0m_\u001b[0m\u001b[0;34m=\u001b[0m\u001b[0me\u001b[0m\u001b[0;34m.\u001b[0m\u001b[0mstep\u001b[0m\u001b[0;34m(\u001b[0m\u001b[0ma\u001b[0m\u001b[0;34m)\u001b[0m\u001b[0;34m\u001b[0m\u001b[0;34m\u001b[0m\u001b[0m\n\u001b[0m\u001b[1;32m      6\u001b[0m \u001b[0mprint\u001b[0m\u001b[0;34m(\u001b[0m\u001b[0ms\u001b[0m\u001b[0;34m,\u001b[0m\u001b[0mr\u001b[0m\u001b[0;34m,\u001b[0m\u001b[0md\u001b[0m\u001b[0;34m,\u001b[0m\u001b[0m_\u001b[0m\u001b[0;34m)\u001b[0m\u001b[0;34m\u001b[0m\u001b[0;34m\u001b[0m\u001b[0m\n",
      "\u001b[0;32m~/.conda/envs/pc_snn/lib/python3.7/site-packages/gym/wrappers/time_limit.py\u001b[0m in \u001b[0;36mstep\u001b[0;34m(self, action)\u001b[0m\n\u001b[1;32m     14\u001b[0m     \u001b[0;32mdef\u001b[0m \u001b[0mstep\u001b[0m\u001b[0;34m(\u001b[0m\u001b[0mself\u001b[0m\u001b[0;34m,\u001b[0m \u001b[0maction\u001b[0m\u001b[0;34m)\u001b[0m\u001b[0;34m:\u001b[0m\u001b[0;34m\u001b[0m\u001b[0;34m\u001b[0m\u001b[0m\n\u001b[1;32m     15\u001b[0m         \u001b[0;32massert\u001b[0m \u001b[0mself\u001b[0m\u001b[0;34m.\u001b[0m\u001b[0m_elapsed_steps\u001b[0m \u001b[0;32mis\u001b[0m \u001b[0;32mnot\u001b[0m \u001b[0;32mNone\u001b[0m\u001b[0;34m,\u001b[0m \u001b[0;34m\"Cannot call env.step() before calling reset()\"\u001b[0m\u001b[0;34m\u001b[0m\u001b[0;34m\u001b[0m\u001b[0m\n\u001b[0;32m---> 16\u001b[0;31m         \u001b[0mobservation\u001b[0m\u001b[0;34m,\u001b[0m \u001b[0mreward\u001b[0m\u001b[0;34m,\u001b[0m \u001b[0mdone\u001b[0m\u001b[0;34m,\u001b[0m \u001b[0minfo\u001b[0m \u001b[0;34m=\u001b[0m \u001b[0mself\u001b[0m\u001b[0;34m.\u001b[0m\u001b[0menv\u001b[0m\u001b[0;34m.\u001b[0m\u001b[0mstep\u001b[0m\u001b[0;34m(\u001b[0m\u001b[0maction\u001b[0m\u001b[0;34m)\u001b[0m\u001b[0;34m\u001b[0m\u001b[0;34m\u001b[0m\u001b[0m\n\u001b[0m\u001b[1;32m     17\u001b[0m         \u001b[0mself\u001b[0m\u001b[0;34m.\u001b[0m\u001b[0m_elapsed_steps\u001b[0m \u001b[0;34m+=\u001b[0m \u001b[0;36m1\u001b[0m\u001b[0;34m\u001b[0m\u001b[0;34m\u001b[0m\u001b[0m\n\u001b[1;32m     18\u001b[0m         \u001b[0;32mif\u001b[0m \u001b[0mself\u001b[0m\u001b[0;34m.\u001b[0m\u001b[0m_elapsed_steps\u001b[0m \u001b[0;34m>=\u001b[0m \u001b[0mself\u001b[0m\u001b[0;34m.\u001b[0m\u001b[0m_max_episode_steps\u001b[0m\u001b[0;34m:\u001b[0m\u001b[0;34m\u001b[0m\u001b[0;34m\u001b[0m\u001b[0m\n",
      "\u001b[0;32m~/.conda/envs/pc_snn/lib/python3.7/site-packages/gym/envs/mujoco/walker2d.py\u001b[0m in \u001b[0;36mstep\u001b[0;34m(self, a)\u001b[0m\n\u001b[1;32m     11\u001b[0m     \u001b[0;32mdef\u001b[0m \u001b[0mstep\u001b[0m\u001b[0;34m(\u001b[0m\u001b[0mself\u001b[0m\u001b[0;34m,\u001b[0m \u001b[0ma\u001b[0m\u001b[0;34m)\u001b[0m\u001b[0;34m:\u001b[0m\u001b[0;34m\u001b[0m\u001b[0;34m\u001b[0m\u001b[0m\n\u001b[1;32m     12\u001b[0m         \u001b[0mposbefore\u001b[0m \u001b[0;34m=\u001b[0m \u001b[0mself\u001b[0m\u001b[0;34m.\u001b[0m\u001b[0msim\u001b[0m\u001b[0;34m.\u001b[0m\u001b[0mdata\u001b[0m\u001b[0;34m.\u001b[0m\u001b[0mqpos\u001b[0m\u001b[0;34m[\u001b[0m\u001b[0;36m0\u001b[0m\u001b[0;34m]\u001b[0m\u001b[0;34m\u001b[0m\u001b[0;34m\u001b[0m\u001b[0m\n\u001b[0;32m---> 13\u001b[0;31m         \u001b[0mself\u001b[0m\u001b[0;34m.\u001b[0m\u001b[0mdo_simulation\u001b[0m\u001b[0;34m(\u001b[0m\u001b[0ma\u001b[0m\u001b[0;34m,\u001b[0m \u001b[0mself\u001b[0m\u001b[0;34m.\u001b[0m\u001b[0mframe_skip\u001b[0m\u001b[0;34m)\u001b[0m\u001b[0;34m\u001b[0m\u001b[0;34m\u001b[0m\u001b[0m\n\u001b[0m\u001b[1;32m     14\u001b[0m         \u001b[0mposafter\u001b[0m\u001b[0;34m,\u001b[0m \u001b[0mheight\u001b[0m\u001b[0;34m,\u001b[0m \u001b[0mang\u001b[0m \u001b[0;34m=\u001b[0m \u001b[0mself\u001b[0m\u001b[0;34m.\u001b[0m\u001b[0msim\u001b[0m\u001b[0;34m.\u001b[0m\u001b[0mdata\u001b[0m\u001b[0;34m.\u001b[0m\u001b[0mqpos\u001b[0m\u001b[0;34m[\u001b[0m\u001b[0;36m0\u001b[0m\u001b[0;34m:\u001b[0m\u001b[0;36m3\u001b[0m\u001b[0;34m]\u001b[0m\u001b[0;34m\u001b[0m\u001b[0;34m\u001b[0m\u001b[0m\n\u001b[1;32m     15\u001b[0m         \u001b[0malive_bonus\u001b[0m \u001b[0;34m=\u001b[0m \u001b[0;36m1.0\u001b[0m\u001b[0;34m\u001b[0m\u001b[0;34m\u001b[0m\u001b[0m\n",
      "\u001b[0;32m~/.conda/envs/pc_snn/lib/python3.7/site-packages/gym/envs/mujoco/mujoco_env.py\u001b[0m in \u001b[0;36mdo_simulation\u001b[0;34m(self, ctrl, n_frames)\u001b[0m\n\u001b[1;32m    121\u001b[0m \u001b[0;34m\u001b[0m\u001b[0m\n\u001b[1;32m    122\u001b[0m     \u001b[0;32mdef\u001b[0m \u001b[0mdo_simulation\u001b[0m\u001b[0;34m(\u001b[0m\u001b[0mself\u001b[0m\u001b[0;34m,\u001b[0m \u001b[0mctrl\u001b[0m\u001b[0;34m,\u001b[0m \u001b[0mn_frames\u001b[0m\u001b[0;34m)\u001b[0m\u001b[0;34m:\u001b[0m\u001b[0;34m\u001b[0m\u001b[0;34m\u001b[0m\u001b[0m\n\u001b[0;32m--> 123\u001b[0;31m         \u001b[0mself\u001b[0m\u001b[0;34m.\u001b[0m\u001b[0msim\u001b[0m\u001b[0;34m.\u001b[0m\u001b[0mdata\u001b[0m\u001b[0;34m.\u001b[0m\u001b[0mctrl\u001b[0m\u001b[0;34m[\u001b[0m\u001b[0;34m:\u001b[0m\u001b[0;34m]\u001b[0m \u001b[0;34m=\u001b[0m \u001b[0mctrl\u001b[0m\u001b[0;34m\u001b[0m\u001b[0;34m\u001b[0m\u001b[0m\n\u001b[0m\u001b[1;32m    124\u001b[0m         \u001b[0;32mfor\u001b[0m \u001b[0m_\u001b[0m \u001b[0;32min\u001b[0m \u001b[0mrange\u001b[0m\u001b[0;34m(\u001b[0m\u001b[0mn_frames\u001b[0m\u001b[0;34m)\u001b[0m\u001b[0;34m:\u001b[0m\u001b[0;34m\u001b[0m\u001b[0;34m\u001b[0m\u001b[0m\n\u001b[1;32m    125\u001b[0m             \u001b[0mself\u001b[0m\u001b[0;34m.\u001b[0m\u001b[0msim\u001b[0m\u001b[0;34m.\u001b[0m\u001b[0mstep\u001b[0m\u001b[0;34m(\u001b[0m\u001b[0;34m)\u001b[0m\u001b[0;34m\u001b[0m\u001b[0;34m\u001b[0m\u001b[0m\n",
      "\u001b[0;31mTypeError\u001b[0m: float() argument must be a string or a number, not 'Identity'"
     ]
    }
   ],
   "source": [
    "import torch.nn as nn\n",
    "a=[4,0.5,0.2,0.4,0.2,0.4]#e.action_space.sample()\n",
    "a=nn.Identity(a)\n",
    "print(a)\n",
    "s,r,d,_=e.step(a)\n",
    "print(s,r,d,_)"
   ]
  },
  {
   "cell_type": "code",
   "execution_count": 219,
   "id": "2ff03ea5",
   "metadata": {},
   "outputs": [
    {
     "name": "stdout",
     "output_type": "stream",
     "text": [
      "1\n",
      "['0', 'Steps:', '10000', 'Mean', 'Reward:', '-8.565531149822563']\n",
      "2\n",
      "['0', 'Steps:', '20000', 'Mean', 'Reward:', '-4.482622564579022']\n",
      "3\n",
      "['0', 'Steps:', '30000', 'Mean', 'Reward:', '-4.26048292183834']\n",
      "4\n",
      "['0', 'Steps:', '40000', 'Mean', 'Reward:', '-3.6485127157151913']\n",
      "5\n",
      "['0', 'Steps:', '50000', 'Mean', 'Reward:', '-4.132680813353061']\n",
      "6\n",
      "['0', 'Steps:', '60000', 'Mean', 'Reward:', '-2.9099938019507077']\n",
      "7\n",
      "['0', 'Steps:', '70000', 'Mean', 'Reward:', '-3.790674727081124']\n",
      "8\n",
      "['0', 'Steps:', '80000', 'Mean', 'Reward:', '-3.7305064043709044']\n",
      "9\n",
      "['0', 'Steps:', '90000', 'Mean', 'Reward:', '-4.854462689202131']\n",
      "10\n",
      "['0', 'Steps:', '100000', 'Mean', 'Reward:', '-3.4668826207614942']\n",
      "11\n",
      "['0', 'Steps:', '110000', 'Mean', 'Reward:', '-4.8283307672020905']\n",
      "12\n",
      "['0', 'Steps:', '120000', 'Mean', 'Reward:', '-3.536351454238164']\n",
      "13\n",
      "['0', 'Steps:', '130000', 'Mean', 'Reward:', '-4.0088272013317905']\n",
      "14\n",
      "['0', 'Steps:', '140000', 'Mean', 'Reward:', '-4.284870865336137']\n",
      "15\n",
      "['0', 'Steps:', '150000', 'Mean', 'Reward:', '-4.170323948003705']\n",
      "16\n",
      "['0', 'Steps:', '160000', 'Mean', 'Reward:', '-3.602795307429639']\n",
      "17\n",
      "['0', 'Steps:', '170000', 'Mean', 'Reward:', '-3.6763591628832017']\n",
      "18\n",
      "['0', 'Steps:', '180000', 'Mean', 'Reward:', '-3.956537003949422']\n",
      "19\n",
      "['0', 'Steps:', '190000', 'Mean', 'Reward:', '-3.2333613408579986']\n",
      "20\n",
      "['0', 'Steps:', '200000', 'Mean', 'Reward:', '-3.1620562229428315']\n",
      "21\n",
      "['0', 'Steps:', '210000', 'Mean', 'Reward:', '-3.6479652875297988']\n",
      "22\n",
      "['0', 'Steps:', '220000', 'Mean', 'Reward:', '-4.0130588605144295']\n",
      "23\n",
      "['0', 'Steps:', '230000', 'Mean', 'Reward:', '-3.57298099386744']\n",
      "24\n",
      "['0', 'Steps:', '240000', 'Mean', 'Reward:', '-2.9277019197564584']\n",
      "25\n",
      "['0', 'Steps:', '250000', 'Mean', 'Reward:', '-3.633374355353947']\n",
      "26\n",
      "['0', 'Steps:', '260000', 'Mean', 'Reward:', '-4.106385575621546']\n",
      "27\n",
      "['0', 'Steps:', '270000', 'Mean', 'Reward:', '-3.7786486714710756']\n",
      "28\n",
      "['0', 'Steps:', '280000', 'Mean', 'Reward:', '-2.8995956605832567']\n",
      "29\n",
      "['0', 'Steps:', '290000', 'Mean', 'Reward:', '-3.8383443706568827']\n",
      "30\n",
      "['0', 'Steps:', '300000', 'Mean', 'Reward:', '-2.7617356524400045']\n",
      "31\n",
      "['0', 'Steps:', '310000', 'Mean', 'Reward:', '-4.014780621827069']\n",
      "32\n",
      "['0', 'Steps:', '320000', 'Mean', 'Reward:', '-3.80093018239997']\n",
      "33\n",
      "['0', 'Steps:', '330000', 'Mean', 'Reward:', '-3.820690680424287']\n",
      "34\n",
      "['0', 'Steps:', '340000', 'Mean', 'Reward:', '-3.8987006200575123']\n",
      "35\n",
      "['0', 'Steps:', '350000', 'Mean', 'Reward:', '-4.457468623347758']\n",
      "36\n",
      "['0', 'Steps:', '360000', 'Mean', 'Reward:', '-3.637386771603951']\n",
      "37\n",
      "['0', 'Steps:', '370000', 'Mean', 'Reward:', '-3.5449640651701357']\n",
      "38\n",
      "['0', 'Steps:', '380000', 'Mean', 'Reward:', '-4.088318027227279']\n",
      "39\n",
      "['0', 'Steps:', '390000', 'Mean', 'Reward:', '-2.9341067867889064']\n",
      "40\n",
      "['0', 'Steps:', '400000', 'Mean', 'Reward:', '-3.705045001311512']\n",
      "41\n",
      "['0', 'Steps:', '410000', 'Mean', 'Reward:', '-3.67495131280427']\n",
      "42\n",
      "['0', 'Steps:', '420000', 'Mean', 'Reward:', '-3.53714516772965']\n",
      "43\n",
      "['0', 'Steps:', '430000', 'Mean', 'Reward:', '-3.2758041529992568']\n",
      "44\n",
      "['0', 'Steps:', '440000', 'Mean', 'Reward:', '-4.205141010134304']\n",
      "45\n",
      "['0', 'Steps:', '450000', 'Mean', 'Reward:', '-3.537312279438622']\n",
      "46\n",
      "['0', 'Steps:', '460000', 'Mean', 'Reward:', '-3.635402134770807']\n",
      "47\n",
      "['0', 'Steps:', '470000', 'Mean', 'Reward:', '-4.37151621481288']\n",
      "48\n",
      "['0', 'Steps:', '480000', 'Mean', 'Reward:', '-3.860150509566754']\n",
      "49\n",
      "['0', 'Steps:', '490000', 'Mean', 'Reward:', '-4.093732290713099']\n",
      "50\n",
      "['0', 'Steps:', '500000', 'Mean', 'Reward:', '-3.3226111953657282']\n",
      "51\n",
      "['0', 'Steps:', '510000', 'Mean', 'Reward:', '-3.5128064610505825']\n",
      "52\n",
      "['0', 'Steps:', '520000', 'Mean', 'Reward:', '-3.5813710453353087']\n",
      "53\n",
      "['0', 'Steps:', '530000', 'Mean', 'Reward:', '-3.40995142676408']\n",
      "54\n",
      "['0', 'Steps:', '540000', 'Mean', 'Reward:', '-3.9855575061434783']\n",
      "55\n",
      "['0', 'Steps:', '550000', 'Mean', 'Reward:', '-4.011078335167723']\n",
      "56\n",
      "['0', 'Steps:', '560000', 'Mean', 'Reward:', '-3.6129693084627954']\n",
      "57\n",
      "['0', 'Steps:', '570000', 'Mean', 'Reward:', '-3.676061404272798']\n",
      "58\n",
      "['0', 'Steps:', '580000', 'Mean', 'Reward:', '-3.5496312398737686']\n",
      "59\n",
      "['0', 'Steps:', '590000', 'Mean', 'Reward:', '-3.739408101109052']\n",
      "60\n",
      "['0', 'Steps:', '600000', 'Mean', 'Reward:', '-4.124852791971028']\n",
      "61\n",
      "['0', 'Steps:', '610000', 'Mean', 'Reward:', '-4.398155282143174']\n",
      "62\n",
      "['0', 'Steps:', '620000', 'Mean', 'Reward:', '-3.611990197108761']\n",
      "63\n",
      "['0', 'Steps:', '630000', 'Mean', 'Reward:', '-4.596388949710873']\n",
      "64\n",
      "['0', 'Steps:', '640000', 'Mean', 'Reward:', '-4.6322978234149454']\n",
      "65\n",
      "['0', 'Steps:', '650000', 'Mean', 'Reward:', '-3.8937894984337262']\n",
      "66\n",
      "['0', 'Steps:', '660000', 'Mean', 'Reward:', '-3.559140304407934']\n",
      "67\n",
      "['0', 'Steps:', '670000', 'Mean', 'Reward:', '-3.1158998723974114']\n",
      "68\n",
      "['0', 'Steps:', '680000', 'Mean', 'Reward:', '-4.013435582366206']\n",
      "69\n",
      "['0', 'Steps:', '690000', 'Mean', 'Reward:', '-3.4335427012407225']\n",
      "70\n",
      "['0', 'Steps:', '700000', 'Mean', 'Reward:', '-4.337755740613778']\n",
      "71\n",
      "['0', 'Steps:', '710000', 'Mean', 'Reward:', '-3.5858545979865637']\n",
      "72\n",
      "['0', 'Steps:', '720000', 'Mean', 'Reward:', '-4.102935802977847']\n",
      "73\n",
      "['0', 'Steps:', '730000', 'Mean', 'Reward:', '-4.210585574399701']\n",
      "74\n",
      "['0', 'Steps:', '740000', 'Mean', 'Reward:', '-2.802361075511361']\n",
      "75\n",
      "['0', 'Steps:', '750000', 'Mean', 'Reward:', '-3.6390810415194865']\n",
      "76\n",
      "['0', 'Steps:', '760000', 'Mean', 'Reward:', '-4.328479552981702']\n",
      "77\n",
      "['0', 'Steps:', '770000', 'Mean', 'Reward:', '-3.774032063542543']\n",
      "78\n",
      "['0', 'Steps:', '780000', 'Mean', 'Reward:', '-3.3507350884087854']\n",
      "79\n",
      "['0', 'Steps:', '790000', 'Mean', 'Reward:', '-3.727985536666651']\n",
      "80\n",
      "['0', 'Steps:', '800000', 'Mean', 'Reward:', '-3.6803127355832865']\n",
      "81\n",
      "['0', 'Steps:', '810000', 'Mean', 'Reward:', '-4.180726411308964']\n",
      "82\n",
      "['0', 'Steps:', '820000', 'Mean', 'Reward:', '-4.56274278840826']\n",
      "83\n",
      "['0', 'Steps:', '830000', 'Mean', 'Reward:', '-3.506446601709044']\n",
      "84\n",
      "['0', 'Steps:', '840000', 'Mean', 'Reward:', '-3.643806219146021']\n",
      "85\n",
      "['0', 'Steps:', '850000', 'Mean', 'Reward:', '-3.7605970226618863']\n",
      "86\n",
      "['0', 'Steps:', '860000', 'Mean', 'Reward:', '-3.6315785078093428']\n",
      "87\n",
      "['0', 'Steps:', '870000', 'Mean', 'Reward:', '-3.1142554477736946']\n",
      "88\n",
      "['0', 'Steps:', '880000', 'Mean', 'Reward:', '-2.977773867656487']\n",
      "89\n",
      "['0', 'Steps:', '890000', 'Mean', 'Reward:', '-3.7284360366005345']\n",
      "90\n",
      "['0', 'Steps:', '900000', 'Mean', 'Reward:', '-2.6386741681437824']\n",
      "91\n",
      "['0', 'Steps:', '910000', 'Mean', 'Reward:', '-4.038046146143033']\n",
      "92\n",
      "['0', 'Steps:', '920000', 'Mean', 'Reward:', '-3.2657819378217163']\n",
      "93\n",
      "['0', 'Steps:', '930000', 'Mean', 'Reward:', '-3.8932830309116406']\n",
      "94\n",
      "['0', 'Steps:', '940000', 'Mean', 'Reward:', '-4.5764905674438605']\n",
      "95\n",
      "['0', 'Steps:', '950000', 'Mean', 'Reward:', '-3.883936121619398']\n",
      "96\n",
      "['0', 'Steps:', '960000', 'Mean', 'Reward:', '-4.549509900555013']\n",
      "97\n",
      "['0', 'Steps:', '970000', 'Mean', 'Reward:', '-3.9082541806089295']\n",
      "98\n",
      "['0', 'Steps:', '980000', 'Mean', 'Reward:', '-4.187788034048779']\n",
      "99\n",
      "['0', 'Steps:', '990000', 'Mean', 'Reward:', '-2.7172781506985766']\n",
      "100\n",
      "['0', 'Steps:', '1000000', 'Mean', 'Reward:', '-3.7222290133022797']\n"
     ]
    }
   ],
   "source": [
    "import csv\n",
    "result_dir =\"/home/admin12/Downloads/github/pc_snn/pop-spiking-deep-rl/popsan_drl/popsan_sac/\"\n",
    "fold=\"result_walk/usable/\"\n",
    "#fold=\"result_reacher/\"\n",
    "typee=\"15with2actorseed100\"\n",
    "with open(result_dir+fold+typee+\"/terminal\",\"r\") as f:\n",
    "    a=f.read()\n",
    "t=a.split(\"Model:\")\n",
    "#t[1]\n",
    "with open(result_dir +fold+typee+ '/' + \"csv_terminal\" + str(0) + '_out.csv', 'w', newline='\\n') as csvfile:\n",
    "    fieldnames = [\"t\",typee+\"_Mean_rew\"]\n",
    "    writer3 = csv.DictWriter(csvfile, fieldnames=fieldnames)\n",
    "    writer3.writeheader()\n",
    "    for tem in t:\n",
    "        if \"Steps\" in tem:\n",
    "            print(t.index(tem))\n",
    "            k=tem.split(\"\\n\")[0].split()\n",
    "            print(k)\n",
    "            writer3.writerow({'t':k[2], typee+'_Mean_rew':k[5]})\n"
   ]
  },
  {
   "cell_type": "code",
   "execution_count": 221,
   "id": "154f676b",
   "metadata": {},
   "outputs": [
    {
     "name": "stdout",
     "output_type": "stream",
     "text": [
      "############# -40.712070642793655\n"
     ]
    }
   ],
   "source": [
    "from PIL import Image\n",
    "import gym\n",
    "#import cv2\n",
    "# org \n",
    "org = (50, 200) \n",
    "  \n",
    "# fontScale dd\n",
    "fontScale = 0.5\n",
    "   \n",
    "# Blue color in BGR \n",
    "color = (100, 0,40 ) \n",
    "  \n",
    "# Line thickness of 2 px \n",
    "thickness = 1\n",
    "env=gym.make(\"Reacher-v2\")\n",
    "\n",
    "result_dir =\"/home/admin12/Downloads/github/pc_snn/pop-spiking-deep-rl/popsan_drl/popsan_sac/\"\n",
    "for ep in range(1):\n",
    "    folder_name=result_dir+\"result_reacher/\"+\"episode\"+str(ep)\n",
    "    os.mkdir(folder_name)\n",
    "    obs = env.reset()\n",
    "    im=env.render(mode=\"rgb_array\")\n",
    "    k=0\n",
    "    i=0\n",
    "    ret=0\n",
    "    while True:\n",
    "        ac=env.action_space.sample()\n",
    "        im=Image.fromarray(np.array(im))\n",
    "        im.save(folder_name+\"/\"+str(k)+\".png\")\n",
    "        k+=1\n",
    "        #img=cv2.imread(folder_name+\"/\"+str(k)+\".png\")\n",
    "        obs, rewards, dones, info = env.step(ac)\n",
    "        im=env.render( mode=\"rgb_array\")\n",
    "        ret += rewards\n",
    "        i+=1\n",
    "        if dones:\n",
    "            print(\"#############\",ret)\n",
    "            #cv2.imwrite(folder_name+\"/\"+str(k)+\".png\", im)\n",
    "            obs = env.reset() \n",
    "            break"
   ]
  },
  {
   "cell_type": "code",
   "execution_count": null,
   "id": "bf9cb91e",
   "metadata": {},
   "outputs": [],
   "source": []
  }
 ],
 "metadata": {
  "kernelspec": {
   "display_name": "Python 3 (ipykernel)",
   "language": "python",
   "name": "python3"
  },
  "language_info": {
   "codemirror_mode": {
    "name": "ipython",
    "version": 3
   },
   "file_extension": ".py",
   "mimetype": "text/x-python",
   "name": "python",
   "nbconvert_exporter": "python",
   "pygments_lexer": "ipython3",
   "version": "3.8.0"
  }
 },
 "nbformat": 4,
 "nbformat_minor": 5
}
